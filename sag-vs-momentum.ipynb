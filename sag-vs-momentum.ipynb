{
 "cells": [
  {
   "cell_type": "markdown",
   "metadata": {},
   "source": [
    "Comparing SAG to Momentum\n",
    "----"
   ]
  },
  {
   "cell_type": "code",
   "execution_count": 2,
   "metadata": {
    "collapsed": false
   },
   "outputs": [],
   "source": [
    "import torch\n",
    "from torch.autograd import Variable\n",
    "import numpy as np"
   ]
  },
  {
   "cell_type": "code",
   "execution_count": 24,
   "metadata": {
    "collapsed": false
   },
   "outputs": [],
   "source": [
    "def f(w, x):\n",
    "    return w[0] + w[1] * x + w[2] * x * x\n",
    "\n",
    "def F(w, x):\n",
    "    return sum(f(w, xi) for xi in x)\n",
    "\n",
    "w = Variable(torch.Tensor([-1, 0, 1]), requires_grad=True)"
   ]
  },
  {
   "cell_type": "code",
   "execution_count": 27,
   "metadata": {
    "collapsed": false
   },
   "outputs": [
    {
     "name": "stdout",
     "output_type": "stream",
     "text": [
      "Variable containing:\n",
      "-1\n",
      "[torch.FloatTensor of size 1]\n",
      "\n",
      "Variable containing:\n",
      " 2\n",
      "[torch.FloatTensor of size 1]\n",
      "\n"
     ]
    }
   ],
   "source": [
    "x = Variable(torch.Tensor(np.arange(3)))\n",
    "\n",
    "print f(w, x[0])\n",
    "print F(w, x)"
   ]
  },
  {
   "cell_type": "code",
   "execution_count": 109,
   "metadata": {
    "collapsed": false
   },
   "outputs": [
    {
     "name": "stdout",
     "output_type": "stream",
     "text": [
      "Exact gradient Variable containing:\n",
      " 3\n",
      " 3\n",
      " 5\n",
      "[torch.FloatTensor of size 3]\n",
      "\n",
      "Gradient at x[2] Variable containing:\n",
      " 1\n",
      " 2\n",
      " 4\n",
      "[torch.FloatTensor of size 3]\n",
      "\n"
     ]
    }
   ],
   "source": [
    "# estimate gradient\n",
    "y = F(w, x)\n",
    "w.grad.data.zero_()\n",
    "y.backward()\n",
    "print 'Exact gradient', w.grad\n",
    "\n",
    "i = np.random.randint(len(x))\n",
    "y = f(w, x[i])\n",
    "w.grad.data.zero_()\n",
    "y.backward()\n",
    "print 'Gradient at x[{}]'.format(i), w.grad\n"
   ]
  },
  {
   "cell_type": "code",
   "execution_count": 290,
   "metadata": {
    "collapsed": false
   },
   "outputs": [
    {
     "ename": "IndentationError",
     "evalue": "unexpected indent (<ipython-input-290-c4f9455aba82>, line 14)",
     "output_type": "error",
     "traceback": [
      "\u001b[0;36m  File \u001b[0;32m\"<ipython-input-290-c4f9455aba82>\"\u001b[0;36m, line \u001b[0;32m14\u001b[0m\n\u001b[0;31m    for sample_idx in xrange(n_samples):\u001b[0m\n\u001b[0m    ^\u001b[0m\n\u001b[0;31mIndentationError\u001b[0m\u001b[0;31m:\u001b[0m unexpected indent\n"
     ]
    }
   ],
   "source": [
    "\n",
    "\n",
    "def generate(n, T):\n",
    "    global indices\n",
    "    global binary_indices\n",
    "    indices = np.random.randint(n, size=(n_samples, T))\n",
    "    # assume each index has been sampled once\n",
    "    for t in xrange(n):\n",
    "        indices[:, t] = t\n",
    "    \n",
    "    binary_indices = np.zeros((n_samples, T, n))\n",
    "        for sample_idx in xrange(n_samples):\n",
    "        binary_indices[sample_idx, np.arange(T), indices[sample_idx]] = 1.\n",
    "\n",
    "    binary_indices.argmax(axis=0)\n",
    "\n",
    "    propagate = np.zeros((n, T, T))\n",
    "    for u in xrange(T):\n",
    "        sub = binary_indices[u:, :]\n",
    "        #print 'sub', sub\n",
    "        sub_argmax = sub.argmax(axis=0)\n",
    "        #print 'argmax', sub_argmax\n",
    "        for i in xrange(n):\n",
    "            if sub_argmax[i] < T:\n",
    "                propagate[i, u, sub_argmax[i]] = 1\n",
    "\n",
    "    #print 'propagate indices', propagate\n",
    "    return indices, binary_indices, propagate\n",
    "\n",
    "for sample in xrange(100):\n",
    "    indices, binary_indices, propagate = generate(n, T)\n",
    "    propagate.sum(axis=0)"
   ]
  },
  {
   "cell_type": "code",
   "execution_count": 311,
   "metadata": {
    "collapsed": false
   },
   "outputs": [],
   "source": [
    "n = 30\n",
    "T = 600\n",
    "n_samples = 200"
   ]
  },
  {
   "cell_type": "code",
   "execution_count": 312,
   "metadata": {
    "collapsed": false
   },
   "outputs": [],
   "source": [
    "def get_backpointer(n_samples, T, n):\n",
    "\n",
    "    indices = np.random.randint(n, size=(n_samples, T))\n",
    "    # assume each index has been sampled once\n",
    "    for t in xrange(n):\n",
    "        indices[:, t] = t\n",
    "\n",
    "    binary_indices = np.zeros((n_samples, T, n))\n",
    "    for sample_idx in xrange(n_samples):\n",
    "        binary_indices[sample_idx, np.arange(T), indices[sample_idx]] = 1.\n",
    "\n",
    "\n",
    "    backpointer = 666 * np.ones((n_samples, T, n)).astype(int)\n",
    "\n",
    "    for t in xrange(T):\n",
    "        up_to_t = binary_indices[:, :t+1]\n",
    "        #print 'submatrix', up_to_t\n",
    "        backpointer[:, t, :] = up_to_t[:, ::-1].argmax(axis=1)\n",
    "        #print 'backpointer', backpointer[:, t, :]  # there is always a 1 (see generate)\n",
    "        \n",
    "    return backpointer\n",
    "\n",
    "backpointer = get_backpointer(n_samples, T, n)"
   ]
  },
  {
   "cell_type": "code",
   "execution_count": 313,
   "metadata": {
    "collapsed": false
   },
   "outputs": [
    {
     "name": "stdout",
     "output_type": "stream",
     "text": [
      "Absolute distance 3.80413568317 +/- 6.7370711398\n",
      "Sum distance 3.79881031162 +/- 6.73828417109\n"
     ]
    }
   ],
   "source": [
    "i = 0  # here we sum only over one n\n",
    "all_dst_abs = []\n",
    "all_dst_sum = []\n",
    "for u in xrange(T):\n",
    "    momentum_acc = []\n",
    "    sag_acc = []\n",
    "    for t in xrange(u, T):\n",
    "        momentum_acc.append(np.ones(n_samples) * beta**(t-u))\n",
    "        sag_acc.append(backpointer[:, t, i] == (t-u))\n",
    "\n",
    "    momentum_acc = np.asarray(momentum_acc).T\n",
    "    sag_acc = np.asarray(sag_acc).astype(np.float).T\n",
    "\n",
    "    #print 'mommentum', momentum_acc\n",
    "    #print 'sag', sag_acc\n",
    "\n",
    "    dst_abs = np.sum(np.abs(momentum_acc - sag_acc), axis=1)\n",
    "    dst_sum = np.abs(np.sum(momentum_acc-sag_acc, axis=1))\n",
    "\n",
    "    all_dst_abs.append(dst_abs)\n",
    "    all_dst_sum.append(dst_sum)\n",
    "    \n",
    "all_dst_abs = np.asarray(all_dst_abs)\n",
    "all_dst_sum = np.asarray(all_dst_sum)\n",
    "print 'Absolute distance {} +/- {}'.format(all_dst_abs.mean(), all_dst_abs.std())\n",
    "print 'Sum distance {} +/- {}'.format(all_dst_sum.mean(), all_dst_sum.std())\n"
   ]
  },
  {
   "cell_type": "code",
   "execution_count": 204,
   "metadata": {
    "collapsed": false
   },
   "outputs": [],
   "source": [
    "u_ = np.arange(T)\n",
    "t_ = np.arange(T)\n",
    "u_mesh, t_mesh = np.meshgrid(u_,t_)\n",
    "\n",
    "t_mesh - u_mesh\n",
    "\n",
    "beta = (1-1./n)\n",
    "momentum_moment = beta ** (t_mesh - u_mesh) * (t_mesh>=u_mesh)\n",
    "momentum_moment = momentum_moment[np.newaxis, :, :] * np.ones((n, 1, 1))"
   ]
  },
  {
   "cell_type": "code",
   "execution_count": 205,
   "metadata": {
    "collapsed": false
   },
   "outputs": [
    {
     "data": {
      "text/plain": [
       "array([[[ 1.        ,  0.        ,  0.        ,  0.        ,  0.        ],\n",
       "        [ 0.66666667,  1.        ,  0.        ,  0.        ,  0.        ],\n",
       "        [ 0.44444444,  0.66666667,  1.        ,  0.        ,  0.        ],\n",
       "        [ 0.2962963 ,  0.44444444,  0.66666667,  1.        ,  0.        ],\n",
       "        [ 0.19753086,  0.2962963 ,  0.44444444,  0.66666667,  1.        ]],\n",
       "\n",
       "       [[ 1.        ,  0.        ,  0.        ,  0.        ,  0.        ],\n",
       "        [ 0.66666667,  1.        ,  0.        ,  0.        ,  0.        ],\n",
       "        [ 0.44444444,  0.66666667,  1.        ,  0.        ,  0.        ],\n",
       "        [ 0.2962963 ,  0.44444444,  0.66666667,  1.        ,  0.        ],\n",
       "        [ 0.19753086,  0.2962963 ,  0.44444444,  0.66666667,  1.        ]],\n",
       "\n",
       "       [[ 1.        ,  0.        ,  0.        ,  0.        ,  0.        ],\n",
       "        [ 0.66666667,  1.        ,  0.        ,  0.        ,  0.        ],\n",
       "        [ 0.44444444,  0.66666667,  1.        ,  0.        ,  0.        ],\n",
       "        [ 0.2962963 ,  0.44444444,  0.66666667,  1.        ,  0.        ],\n",
       "        [ 0.19753086,  0.2962963 ,  0.44444444,  0.66666667,  1.        ]]])"
      ]
     },
     "execution_count": 205,
     "metadata": {},
     "output_type": "execute_result"
    }
   ],
   "source": [
    "momentum_moment"
   ]
  },
  {
   "cell_type": "code",
   "execution_count": 176,
   "metadata": {
    "collapsed": false
   },
   "outputs": [
    {
     "data": {
      "text/plain": [
       "array([[ True, False, False, ..., False, False, False],\n",
       "       [False,  True, False, ..., False, False, False],\n",
       "       [False, False,  True, ..., False, False, False],\n",
       "       ..., \n",
       "       [False, False, False, ...,  True, False, False],\n",
       "       [False, False, False, ..., False,  True, False],\n",
       "       [False, False, False, ..., False, False,  True]], dtype=bool)"
      ]
     },
     "execution_count": 176,
     "metadata": {},
     "output_type": "execute_result"
    }
   ],
   "source": [
    "t_mesh"
   ]
  }
 ],
 "metadata": {
  "anaconda-cloud": {},
  "kernelspec": {
   "display_name": "Python [conda root]",
   "language": "python",
   "name": "conda-root-py"
  },
  "language_info": {
   "codemirror_mode": {
    "name": "ipython",
    "version": 3
   },
   "file_extension": ".py",
   "mimetype": "text/x-python",
   "name": "python",
   "nbconvert_exporter": "python",
   "pygments_lexer": "ipython3",
   "version": "3.5.2"
  }
 },
 "nbformat": 4,
 "nbformat_minor": 2
}
