{
 "cells": [
  {
   "cell_type": "code",
   "execution_count": 242,
   "metadata": {
    "collapsed": false
   },
   "outputs": [
    {
     "name": "stdout",
     "output_type": "stream",
     "text": [
      "Populating the interactive namespace from numpy and matplotlib\n"
     ]
    },
    {
     "name": "stderr",
     "output_type": "stream",
     "text": [
      "/Users/aristidebaratin/anaconda/lib/python3.5/site-packages/IPython/core/magics/pylab.py:161: UserWarning: pylab import has clobbered these variables: ['pylab', 'f']\n",
      "`%matplotlib` prevents importing * from pylab and numpy\n",
      "  \"\\n`%matplotlib` prevents importing * from pylab and numpy\"\n"
     ]
    }
   ],
   "source": [
    "%pylab inline\n",
    "import numpy as np\n",
    "import pylab\n",
    "from scipy import stats"
   ]
  },
  {
   "cell_type": "code",
   "execution_count": 243,
   "metadata": {
    "collapsed": false
   },
   "outputs": [],
   "source": [
    "# Utilitaries\n",
    "def sigmoid(z):\n",
    "    return 1/(1+ np.exp(-z)) \n",
    "\n",
    "def lineSearch(f, grad, omega, L0):\n",
    "    g= grad(omega)\n",
    "    L=L0\n",
    "    f_new = f(omega-1/L*g)\n",
    "    while f_new >= f(omega) - 1/(2*L)*np.sum(g*g):\n",
    "        L=2*L\n",
    "        f_new = f(omega-1/L*g)\n",
    "    return L\n",
    "    \n",
    "def nuSample(n, L):\n",
    "    # L is list of of Lipschitz constants\n",
    "    L=tuple(L)\n",
    "    x=np.arange(n)\n",
    "    dist = stats.rv_discrete(values=(x, L/np.sum(L)))\n",
    "    return dist.rvs() "
   ]
  },
  {
   "cell_type": "code",
   "execution_count": 244,
   "metadata": {
    "collapsed": false
   },
   "outputs": [],
   "source": [
    "# SAG algorithm with early re-weighting, exact regularization, uniform sampling. \n",
    "class SAG:\n",
    "    \n",
    "    def __init__(self, f, fi, grad, n):\n",
    "        self.f = f  # regularized Function to minimize\n",
    "        self.fi = fi # function for each example i\n",
    "        self.grad = grad  # gradients of fi \n",
    "        self.n = n\n",
    "        \n",
    "    def train(self, omega0, alpha, l_reg, NUS, tolerance = 10**(-6), max_pass=50):\n",
    "        self.max_pass = max_pass\n",
    "        omega = omega0\n",
    "        d=0\n",
    "        C = [0]*self.n\n",
    "        grad = [0]*self.n\n",
    "        m=0\n",
    "        change = True\n",
    "        n_iter = 0\n",
    "        logs = []\n",
    "        L=[1]*self.n\n",
    "        while change and n_iter < max_pass*self.n:\n",
    "            n_iter+=1\n",
    "            f_old = self.f(omega)\n",
    "            # sample exampe i \n",
    "            if NUS:\n",
    "                i = nuSample(self.n, L)\n",
    "            else:\n",
    "                i=np.random.choice(self.n)\n",
    "            if C[i] == 0:\n",
    "                m+=1\n",
    "                C[i]=1\n",
    "            # update direction \n",
    "            new_grad = self.grad(omega, i)\n",
    "            d += new_grad - grad[i]\n",
    "            # update gradients\n",
    "            grad[i] = new_grad\n",
    "            if np.sum(new_grad*new_grad)>10**(-8):\n",
    "                def f_i(omega):\n",
    "                    return self.fi(omega,i)\n",
    "                def grad_i(omega):\n",
    "                    return self.grad(omega, i)\n",
    "                L[i]=lineSearch(f_i, grad_i, omega, L0=L[i])\n",
    "            # update parameters\n",
    "            #alpha = 1/(L[i] + l_reg)\n",
    "            omega -= alpha*(1/m*d + l_reg*omega)\n",
    "            L[i] = L[i]/2*(1/self.n)\n",
    "            f_new = self.f(omega)\n",
    "            if n_iter% self.n==0:\n",
    "                logs+=[f_new]\n",
    "            relative_change = np.abs((f_new - f_old)/f_old)\n",
    "            change = relative_change > tolerance\n",
    "            \n",
    "        if change:\n",
    "            print(\"SAG terminated without convergence\")\n",
    "        else:\n",
    "            print(\"SAG converged after\", n_iter, \"\"\"iterations. \n",
    "                  The value obtained for the vector omega is {0} and for the bias b is {1}\"\"\".format(omega[:-1], omega[-1]))\n",
    "        \n",
    "        return omega, logs    "
   ]
  },
  {
   "cell_type": "code",
   "execution_count": 245,
   "metadata": {
    "collapsed": true
   },
   "outputs": [],
   "source": [
    "class Logistic_reg:\n",
    "    \n",
    "    def __init__(self, max_pass=50):\n",
    "        self.max_pass = max_pass\n",
    "        \n",
    "    def train(self, train_data, omega0, alpha = 0.05, l_reg=0, NUS=False):\n",
    "        # Bias feature trick\n",
    "        X = np.ones(train_data.shape)\n",
    "        X[:,:-1] = train_data[:,:-1]\n",
    "        Y = train_data[:,-1]\n",
    "        n = train_data.shape[0]\n",
    "        self.omega0 = omega0\n",
    "        \n",
    "        def f(omega):\n",
    "            mu = sigmoid(np.dot(X, omega))\n",
    "            f = - 1/X.shape[0]*(np.dot(Y,np.log(mu)) + np.dot(1-Y, np.log(1-mu))) + 1/2*l_reg*np.sum(omega[:-1]**2)\n",
    "            return f\n",
    "        \n",
    "        def fi(omega, i):\n",
    "            mu = sigmoid(np.dot(X[i], omega))\n",
    "            f = - Y[i]*np.log(mu) - (1-Y[i])*np.log(1-mu) \n",
    "            return f\n",
    "    \n",
    "        # compute the non regularized gradient i\n",
    "        def grad(omega, i):\n",
    "            mu = sigmoid(np.dot(X[i], omega))\n",
    "            return (mu-Y[i])*X[i] \n",
    "             \n",
    "        # Run SAG \n",
    "        sag = SAG(f, fi,  grad, X.shape[0])\n",
    "        self.omega, self.logs = sag.train(self.omega0, alpha, l_reg, NUS)     "
   ]
  },
  {
   "cell_type": "code",
   "execution_count": 246,
   "metadata": {
    "collapsed": false
   },
   "outputs": [],
   "source": [
    "# load iris dataset\n",
    "iris = np.loadtxt('iris.txt')\n",
    "data = iris\n",
    "# We keep label 1 and 2\n",
    "data = data[data[:,-1]<3,:]\n",
    "# We change label 2 into label 0 \n",
    "data[data[:,-1]==2,-1] = 0\n",
    "\n",
    "X = np.ones(data.shape)\n",
    "X[:,:-1] = data[:,:-1]\n",
    "    \n",
    "l_reg = 1/X.shape[0]\n",
    "# Lipschitz constant of f\n",
    "L = 0.25*np.max(np.sum(X**2, axis=1)) + l_reg\n",
    "# Convexity constant of f\n",
    "l = 0.25*np.min(np.sum(X**2, axis=1)) + l_reg"
   ]
  },
  {
   "cell_type": "code",
   "execution_count": 251,
   "metadata": {
    "collapsed": false
   },
   "outputs": [
    {
     "name": "stderr",
     "output_type": "stream",
     "text": [
      "/Users/aristidebaratin/anaconda/lib/python3.5/site-packages/ipykernel/__main__.py:3: RuntimeWarning: overflow encountered in exp\n",
      "  app.launch_new_instance()\n",
      "/Users/aristidebaratin/anaconda/lib/python3.5/site-packages/ipykernel/__main__.py:21: RuntimeWarning: divide by zero encountered in log\n",
      "/Users/aristidebaratin/anaconda/lib/python3.5/site-packages/ipykernel/__main__.py:21: RuntimeWarning: invalid value encountered in double_scalars\n"
     ]
    },
    {
     "name": "stdout",
     "output_type": "stream",
     "text": [
      "SAG terminated without convergence\n"
     ]
    }
   ],
   "source": [
    "omega0 = np.ones(data.shape[1])\n",
    "model = Logistic_reg()\n",
    "model.train(data, omega0, l_reg)\n",
    "logs = model.logs"
   ]
  },
  {
   "cell_type": "code",
   "execution_count": 252,
   "metadata": {
    "collapsed": false
   },
   "outputs": [
    {
     "data": {
      "image/png": "[encoded data removed]",
      "text/plain": [
       "<matplotlib.figure.Figure at 0x10bcb80f0>"
      ]
     },
     "metadata": {},
     "output_type": "display_data"
    }
   ],
   "source": [
    "import matplotlib.pyplot as plt\n",
    "pylab.plot(list(np.arange(len(logs)-1)), logs[1:])\n",
    "pylab.ylabel('Objective')\n",
    "pylab.xlabel('Effectice passes')\n",
    "pylab.title('Objective on training set')\n",
    "pylab.show()\n",
    "\n",
    "\n",
    "\n",
    "    "
   ]
  }
 ],
 "metadata": {
  "anaconda-cloud": {},
  "kernelspec": {
   "display_name": "Python [conda root]",
   "language": "python",
   "name": "conda-root-py"
  },
  "language_info": {
   "codemirror_mode": {
    "name": "ipython",
    "version": 3
   },
   "file_extension": ".py",
   "mimetype": "text/x-python",
   "name": "python",
   "nbconvert_exporter": "python",
   "pygments_lexer": "ipython3",
   "version": "3.5.2"
  }
 },
 "nbformat": 4,
 "nbformat_minor": 1
}
